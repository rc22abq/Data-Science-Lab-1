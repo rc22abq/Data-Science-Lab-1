{
 "cells": [
  {
   "cell_type": "markdown",
   "metadata": {},
   "source": [
    "# Lab 3: NumPy\n",
    "\n",
    "The following tutorial contains examples of using the NumPy library module. It is by no means exhaustive, but should hopefully introduce you to many of the key features NumPy offers. This notebook is based upon several of the resources found in the reading list, including _Introduction to Data Mining_ by Tan, Steinbach, Karpatne and Kumar, McKinney's _Python for Data Analysis_ and VanderPlas' _Python Data Science Handbook_. To execute the code, click on the cell and press the SHIFT-ENTER keys simultaneously.\n",
    "\n",
    "As ever, you are encouraged to experiment with this code. Alter it, make mistakes, pursue your natural questions and create python scripts in Spyder based upon the code found in this notebook. In doing so, you will gain a much greater appreciation for how NumPy works."
   ]
  },
  {
   "cell_type": "markdown",
   "metadata": {},
   "source": [
    "## 3.1 Introduction to NumPy\n",
    "\n",
    "Numpy, which stands for numerical Python, is a Python library package to support numerical computations. It provides an efficient interface to store and operate on dense data buffers. In some ways, arrays in NumPy are very much like Python's in-built `list` type, except NumPy arrays provide much more efficient storage and data operations as the arrays grow larger in size. The basic data structure in numpy is a multi-dimensional array object called ndarray. Numpy then provides a suite of functions that can efficiently manipulate elements of the ndarray. For more information, read Chapter 4 of McKinney or Part II of VanderPlas.\n",
    "\n",
    "The first thing you need to do is import NumPy. This is done by typing `import numpy as np` where the alias `np` is standard.\n",
    "\n",
    "### 3.1.1 Creating ndarray\n",
    "\n",
    "An ndarray can be created from a list or a tuple object as shown in the examples below. It is possible to create a 1-dimensional or multi-dimensional array from the list objects as well as tuples. However, unlike Python lists, NumPy arrays can only contain data of the same type. If the types do not match, NumPy will upcast them according to its type promotion rules; below, integers are upcast to floating point.\n",
    "\n",
    "If we want to explicitly set the data type of the resulting array, we can use the `dtype` keyword."
   ]
  },
  {
   "cell_type": "code",
   "execution_count": 2,
   "metadata": {},
   "outputs": [
    {
     "name": "stdout",
     "output_type": "stream",
     "text": [
      "[1. 2. 3. 4. 5.]\n",
      "#Dimensions = 1\n",
      "Dimension = (5,)\n",
      "Size = 5\n",
      "Array type = float64 \n",
      "\n",
      "[[1 2]\n",
      " [3 4]\n",
      " [5 6]\n",
      " [7 8]]\n",
      "#Dimensions = 2\n",
      "Dimension = (4, 2)\n",
      "Size = 8\n",
      "Array type = int32 \n",
      "\n",
      "[['1' 'a' '3.0']\n",
      " ['2' 'b' '3.5']]\n",
      "#Dimensions = 2\n",
      "Dimension = (2, 3)\n",
      "Size = 6 \n",
      "\n",
      "[ 1.   2.   4.5 -7.6]\n",
      "#Dimensions = 1\n",
      "Dimension = (4,)\n",
      "Size = 4 \n",
      "\n",
      "[1. 2. 3. 4. 5.]\n",
      "#Dimensions = 1\n",
      "Dimension = (4,)\n",
      "Size = 4\n",
      "Array type = float32 \n",
      "\n"
     ]
    }
   ],
   "source": [
    "import numpy as np\n",
    "\n",
    "oneDim = np.array([1.0,2,3,4,5])   # a 1-dimensional array (vector)\n",
    "print(oneDim)\n",
    "print(\"#Dimensions =\", oneDim.ndim)\n",
    "print(\"Dimension =\", oneDim.shape)\n",
    "print(\"Size =\", oneDim.size)\n",
    "print(\"Array type =\", oneDim.dtype, '\\n')\n",
    "\n",
    "twoDim = np.array([[1,2],[3,4],[5,6],[7,8]])  # a two-dimensional array (matrix)\n",
    "print(twoDim)\n",
    "print(\"#Dimensions =\", twoDim.ndim)\n",
    "print(\"Dimension =\", twoDim.shape)\n",
    "print(\"Size =\", twoDim.size)\n",
    "print(\"Array type =\", twoDim.dtype, '\\n')\n",
    "\n",
    "arrFromTuple = np.array([(1,'a',3.0),(2,'b',3.5)])  # create ndarray from tuple\n",
    "print(arrFromTuple)\n",
    "print(\"#Dimensions =\", arrFromTuple.ndim)\n",
    "print(\"Dimension =\", arrFromTuple.shape)\n",
    "print(\"Size =\", arrFromTuple.size, '\\n')\n",
    "\n",
    "data1 = [1, 2, 4.5, -7.6]\n",
    "arrFromData = np.array(data1)\n",
    "print(arrFromData)\n",
    "print(\"#Dimensions =\", arrFromData.ndim)\n",
    "print(\"Dimension =\", arrFromData.shape)\n",
    "print(\"Size =\", arrFromData.size, '\\n')\n",
    "\n",
    "data2 = np.array([1,2,3,4], dtype=np.float32)  # specifically specify data type\n",
    "print(oneDim)\n",
    "print(\"#Dimensions =\", data2.ndim)\n",
    "print(\"Dimension =\", data2.shape)\n",
    "print(\"Size =\", data2.size)\n",
    "print(\"Array type =\", data2.dtype, '\\n')"
   ]
  },
  {
   "cell_type": "markdown",
   "metadata": {},
   "source": [
    "There are also built-in functions available in numpy to create the ndarrays. This is often far more efficient when creating larger arrays."
   ]
  },
  {
   "cell_type": "code",
   "execution_count": 5,
   "metadata": {},
   "outputs": [
    {
     "name": "stdout",
     "output_type": "stream",
     "text": [
      "Array of random numbers from a uniform distribution\n",
      "[0.65017273 0.78476876 0.71257438 0.42669034 0.2152526 ]\n",
      "\n",
      "Array of random numbers from a normal distribution\n",
      "[-0.90999498  0.4099409   0.35069873 -0.16882753  0.68827351]\n",
      "\n",
      "A3x3 array of normally distributed pseudorandom values with mean 0 and standard deviation 1\n",
      "[[ 0.48756851  0.12376537  1.0389459 ]\n",
      " [-1.78025923 -1.91515499 -0.0260522 ]\n",
      " [-0.53203352  0.06692023 -0.83889238]]\n",
      "\n",
      "x3 array of pseudorandom itegers in the interval [0,10)\n",
      "[[0 6 2]\n",
      " [9 0 9]\n",
      " [0 6 1]]\n",
      "\n",
      "Array of integers between -10 and 10, with step size of 2\n",
      "[-10  -8  -6  -4  -2   0   2   4   6   8]\n",
      "\n",
      "2-dimensional array of integers from 0 to 11\n",
      "[[ 0  1  2  3]\n",
      " [ 4  5  6  7]\n",
      " [ 8  9 10 11]]\n",
      "\n",
      "Array of values between 0 and 1, split into 10 equally spaced values\n",
      "[0.         0.11111111 0.22222222 0.33333333 0.44444444 0.55555556\n",
      " 0.66666667 0.77777778 0.88888889 1.        ]\n",
      "\n",
      "Array of values from 10^-3 to 10^3\n",
      "[1.e-03 1.e-02 1.e-01 1.e+00 1.e+01 1.e+02 1.e+03]\n"
     ]
    }
   ],
   "source": [
    "print('Array of random numbers from a uniform distribution')\n",
    "print(np.random.rand(5))      # random numbers from a uniform distribution between [0,1]\n",
    "\n",
    "print('\\nArray of random numbers from a normal distribution')\n",
    "print(np.random.randn(5))     # random numbers from a normal distribution\n",
    "\n",
    "print('\\nA3x3 array of normally distributed pseudorandom values with mean 0 and standard deviation 1')\n",
    "print(np.random.normal(0, 1, (3,3)))\n",
    "\n",
    "print('\\nx3 array of pseudorandom itegers in the interval [0,10)')\n",
    "print(np.random.randint(0, 10, (3,3)))\n",
    "\n",
    "print('\\nArray of integers between -10 and 10, with step size of 2')\n",
    "print(np.arange(-10,10,2))    # similar to range, but returns ndarray instead of list\n",
    "\n",
    "print('\\n2-dimensional array of integers from 0 to 11')\n",
    "print(np.arange(12).reshape(3,4))  # reshape to a matrix\n",
    "\n",
    "print('\\nArray of values between 0 and 1, split into 10 equally spaced values')\n",
    "print(np.linspace(0,1,10))    # split interval [0,1] into 10 equally separated values\n",
    "\n",
    "print('\\nArray of values from 10^-3 to 10^3')\n",
    "print(np.logspace(-3,3,7))    # create ndarray with values from 10^-3 to 10^3"
   ]
  },
  {
   "cell_type": "code",
   "execution_count": 3,
   "metadata": {},
   "outputs": [
    {
     "name": "stdout",
     "output_type": "stream",
     "text": [
      "A 2 x 3 matrix of zeros\n",
      "[[0. 0. 0.]\n",
      " [0. 0. 0.]]\n",
      "\n",
      "A 3 x 2 matrix of ones\n",
      "[[1. 1.]\n",
      " [1. 1.]\n",
      " [1. 1.]]\n",
      "\n",
      "A 3 x 3 identity matrix\n",
      "[[1. 0. 0.]\n",
      " [0. 1. 0.]\n",
      " [0. 0. 1.]]\n",
      "\n",
      "A 3x5 array filled with 3.14\n",
      "[[3.14 3.14 3.14 3.14 3.14]\n",
      " [3.14 3.14 3.14 3.14 3.14]\n",
      " [3.14 3.14 3.14 3.14 3.14]]\n"
     ]
    }
   ],
   "source": [
    "print('A 2 x 3 matrix of zeros')\n",
    "print(np.zeros((2,3)))        # a matrix of zeros\n",
    "\n",
    "print('\\nA 3 x 2 matrix of ones')\n",
    "print(np.ones((3,2)))         # a matrix of ones\n",
    "\n",
    "print('\\nA 3 x 3 identity matrix')\n",
    "print(np.eye(3))              # a 3 x 3 identity matrix\n",
    "\n",
    "print('\\nA 3x5 array filled with 3.14')\n",
    "print(np.full((3,5),3.14))"
   ]
  },
  {
   "cell_type": "markdown",
   "metadata": {},
   "source": [
    "## 3.1.2 Element-wise Operations\n",
    "\n",
    "We can apply standard operators such as addition and multiplication on each element of the ndarray. This can be between a scalar and an array:"
   ]
  },
  {
   "cell_type": "code",
   "execution_count": 21,
   "metadata": {},
   "outputs": [
    {
     "name": "stdout",
     "output_type": "stream",
     "text": [
      "x = [1 2 3 4 5]\n",
      "x + 1 = [2 3 4 5 6]\n",
      "x - 1 = [0 1 2 3 4]\n",
      "x * 2 = [ 2  4  6  8 10]\n",
      "x // 2 = [0 1 1 2 2]\n",
      "x ** 2 = [ 1  4  9 16 25]\n",
      "x % 2 = [1 0 1 0 1]\n",
      "1 / x = [1.         0.5        0.33333333 0.25       0.2       ]\n"
     ]
    }
   ],
   "source": [
    "x = np.array([1,2,3,4,5])\n",
    "\n",
    "print('x =', x)\n",
    "print('x + 1 =', x + 1)      # addition\n",
    "print('x - 1 =', x - 1)      # subtraction\n",
    "print('x * 2 =', x * 2)      # multiplication\n",
    "print('x // 2 =', x // 2)     # integer/floor division\n",
    "print('x ** 2 =', x ** 2)     # square\n",
    "print('x % 2 =', x % 2)      # modulo  \n",
    "print('1 / x =', 1 / x)      # division"
   ]
  },
  {
   "cell_type": "markdown",
   "metadata": {},
   "source": [
    "We can also apply standard operations between two arrays:"
   ]
  },
  {
   "cell_type": "code",
   "execution_count": 45,
   "metadata": {},
   "outputs": [
    {
     "name": "stdout",
     "output_type": "stream",
     "text": [
      "x = [ 2  4  6  8 10]\n",
      "y = [1 2 3 4 5]\n",
      "x + y = [ 3  6  9 12 15]\n",
      "x - y = [1 2 3 4 5]\n",
      "x * y = [ 2  8 18 32 50]\n",
      "x / y = [2. 2. 2. 2. 2.]\n",
      "x // y = [2 2 2 2 2]\n",
      "x ** y = [     2     16    216   4096 100000]\n",
      "x > y = [ True  True  True  True  True]\n",
      "x + z = [[ 2  5 10 10 15]\n",
      " [ 4  6 18  8 11]]\n"
     ]
    }
   ],
   "source": [
    "x = np.array([2,4,6,8,10])\n",
    "y = np.array([1,2,3,4,5])\n",
    "z = np.array([[0,1,4,2,5],[2,2,12, 0, 1]])\n",
    "\n",
    "print('x =', x)\n",
    "print('y =', y)\n",
    "print('x + y =', x + y)      # element-wise addition\n",
    "print('x - y =', x - y)      # element-wise subtraction\n",
    "print('x * y =', x * y)      # element-wise multiplication \n",
    "print('x / y =', x / y)      # element-wise division\n",
    "print('x // y =', x // y)    # element-wise integer division \n",
    "print('x ** y =', x ** y)    # element-wise exponentiation\n",
    "print('x > y =', x > y)      # element-wise comparison\n",
    "print('x + z =', x + z)      # Evaluating operations between differently sized arrays is called broadcasting"
   ]
  },
  {
   "cell_type": "markdown",
   "metadata": {},
   "source": [
    "These kinds of things are known as _vectorized_ operations. Vectorized approaches are designed to push the loop we would ordinarily have to use (to loop through the array and perform the operation) into the compiled layer that underlies NumPy, leading to much faster execution (see problem below). Vectorized operations in NumPy are implemented via ufuncs, whose main purpose is to quickly execute repeated operations on values in NumPy arrays. As we saw above, Ufuncs are extremely flexible. They can work between scalars and arrays, arrays and arrays, multidimensional arrays etc. Such computations using vectorization through ufuncs are nearly always more efficient than their counterparts implemented using Python loops, especially as the arrays grow in size. As such, any time you see a loop in a NumPy script, you should consider whether it can be replaced with a vectorized expression."
   ]
  },
  {
   "cell_type": "markdown",
   "metadata": {},
   "source": [
    "__Problem:__ Create a function whose input is an array and whose output is an array in which each entry is the reciprocal of the corresponding entry in the input, i.e. if our array is [1, 2, 3, 4], then we should output [1, 0.5, 0.33333, 0.25]. Your function should not use any in-built NumPy operations. Instead, use a for loop. Test this function with an array comprised of 5 randomly generated integers between 1 and 10.\n",
    "\n",
    "Next, measure the execution time of this function on an input of 1,000,000 randomly generated integers between 1 and 10.\n",
    "\n",
    "Finally, measure the execution time of using one of NumPy's in-built operations."
   ]
  },
  {
   "cell_type": "code",
   "execution_count": 16,
   "metadata": {},
   "outputs": [
    {
     "name": "stdout",
     "output_type": "stream",
     "text": [
      "Our values are: [7 5 1 5 2] \n",
      "\n",
      "The reciprocals of these values are: [0.14285714 0.2        1.         0.2        0.5       ]\n"
     ]
    }
   ],
   "source": [
    "def compute_reciprocals(values):\n",
    "    output = np.empty(len(values))\n",
    "    for i in range(len(values)):\n",
    "        output[i] = 1.0 / values[i]\n",
    "    return output\n",
    "\n",
    "values = np.random.randint(1, 10, 5)\n",
    "print('Our values are:', values, '\\n')\n",
    "print('The reciprocals of these values are:', compute_reciprocals(values))"
   ]
  },
  {
   "cell_type": "code",
   "execution_count": 18,
   "metadata": {},
   "outputs": [
    {
     "name": "stdout",
     "output_type": "stream",
     "text": [
      "2.44 s ± 106 ms per loop (mean ± std. dev. of 7 runs, 1 loop each)\n"
     ]
    }
   ],
   "source": [
    "big_array = np.random.randint(1,100,1000000)\n",
    "%timeit compute_reciprocals(big_array)"
   ]
  },
  {
   "cell_type": "code",
   "execution_count": 20,
   "metadata": {},
   "outputs": [
    {
     "name": "stdout",
     "output_type": "stream",
     "text": [
      "3.55 ms ± 190 µs per loop (mean ± std. dev. of 7 runs, 100 loops each)\n"
     ]
    }
   ],
   "source": [
    "%timeit (1.0/big_array)"
   ]
  },
  {
   "cell_type": "markdown",
   "metadata": {},
   "source": [
    "## 3.1.3 Indexing and Slicing\n",
    "\n",
    "There are various ways to select a subset of elements within a NumPy array. Assigning a NumPy array (or a subset of its elements) to another variable will simply pass a reference to the array instead of copying its values. To make a copy of an ndarray, you need to explicitly call the .copy() function."
   ]
  },
  {
   "cell_type": "code",
   "execution_count": 6,
   "metadata": {},
   "outputs": [
    {
     "name": "stdout",
     "output_type": "stream",
     "text": [
      "Before: x = [-5 -4 -3 -2 -1  0  1  2  3  4]\n",
      "        y = [-2 -1]\n",
      "After : y = [1000 1000]\n",
      "        x = [  -5   -4   -3 1000 1000    0    1    2    3    4] \n",
      "\n",
      "Before: x = [  -5   -4   -3 1000 1000    0    1    2    3    4]\n",
      "        z = [1000 1000]\n",
      "After : z = [500 500]\n",
      "        x = [  -5   -4   -3 1000 1000    0    1    2    3    4]\n"
     ]
    }
   ],
   "source": [
    "x = np.arange(-5,5)\n",
    "print('Before: x =', x)\n",
    "\n",
    "y = x[3:5]     # y is a slice, i.e., pointer to a subarray in x\n",
    "print('        y =', y)\n",
    "y[:] = 1000    # modifying the value of y will change x. We say the value is broadcasted to the entire selection.\n",
    "print('After : y =', y)\n",
    "print('        x =', x, '\\n')\n",
    "\n",
    "z = x[3:5].copy()   # makes a copy of the subarray\n",
    "print('Before: x =', x)\n",
    "print('        z =', z)\n",
    "z[:] = 500          # modifying the value of z will not affect x\n",
    "print('After : z =', z)\n",
    "print('        x =', x)"
   ]
  },
  {
   "cell_type": "markdown",
   "metadata": {},
   "source": [
    "There are many ways to access elements of an ndarray. The following example illustrates the difference between indexing elements of a list and elements of ndarray."
   ]
  },
  {
   "cell_type": "code",
   "execution_count": 68,
   "metadata": {},
   "outputs": [
    {
     "name": "stdout",
     "output_type": "stream",
     "text": [
      "my2dlist = [[1, 2, 3, 4], [5, 6, 7, 8], [9, 10, 11, 12]]\n",
      "my2dlist[2] = [9, 10, 11, 12]\n",
      "my2dlist[:][2] = [9, 10, 11, 12]\n",
      "\n",
      "my2darr =\n",
      " [[ 1  2  3  4]\n",
      " [ 5  6  7  8]\n",
      " [ 9 10 11 12]]\n",
      "my2darr[2][:] = [ 9 10 11 12]\n",
      "my2darr[0][2] = 3\n",
      "my2darr[0,2] = 3\n",
      "my2darr[2,:] = [ 9 10 11 12]\n",
      "my2darr[:][2] = [ 9 10 11 12]\n",
      "my2darr[:,2] = [ 3  7 11]\n",
      "my2darr[:2,2:] =\n",
      " [[3 4]\n",
      " [7 8]]\n",
      "\n",
      "my3darr =\n",
      " [[[ 1  2  3]\n",
      "  [ 4  5  6]]\n",
      "\n",
      " [[ 7  8  9]\n",
      "  [10 11 12]]]\n",
      "my3darr[0] =\n",
      " [[1 2 3]\n",
      " [4 5 6]]\n",
      "my3darr[0] = 42\n",
      "my3darr =\n",
      " [[[42 42 42]\n",
      "  [42 42 42]]\n",
      "\n",
      " [[ 7  8  9]\n",
      "  [10 11 12]]]\n",
      "my3darr[0]=old_values\n",
      "my3darr = \n",
      " [[[ 1  2  3]\n",
      "  [ 4  5  6]]\n",
      "\n",
      " [[ 7  8  9]\n",
      "  [10 11 12]]]\n"
     ]
    }
   ],
   "source": [
    "my2dlist = [[1,2,3,4],[5,6,7,8],[9,10,11,12]]  # a 2-dim list\n",
    "print('my2dlist =', my2dlist)\n",
    "print('my2dlist[2] =', my2dlist[2])            # access the third sublist\n",
    "print('my2dlist[:][2] =', my2dlist[:][2])      # can't access third element of each sublist\n",
    "# print('my2dlist[:,2] =', my2dlist[:,2])      # invalid way to access sublist, will cause syntax error\n",
    "\n",
    "my2darr = np.array(my2dlist)\n",
    "print('\\nmy2darr =\\n', my2darr)\n",
    "\n",
    "print('my2darr[2][:] =', my2darr[2][:])      # access the third row\n",
    "print('my2darr[0][2] =', my2darr[0][2])      # access the third element of first row\n",
    "print('my2darr[0,2] =', my2darr[0,2])        # access the third element of first row\n",
    "print('my2darr[2,:] =', my2darr[2,:])        # access the third row\n",
    "print('my2darr[:][2] =', my2darr[:][2])      # access the third row (similar to 2d list)\n",
    "print('my2darr[:,2] =', my2darr[:,2])        # access the third column\n",
    "print('my2darr[:2,2:] =\\n', my2darr[:2,2:])     # access the first two rows & last two columns\n",
    "\n",
    "my3darr = np.array([[[1,2,3], [4,5,6]], [[7,8,9],[10,11,12]]])\n",
    "print('\\nmy3darr =\\n', my3darr)                # a 3-dim array\n",
    "print('my3darr[0] =\\n', my3darr[0])          # access the first 2x3 array\n",
    "\n",
    "old_values=my3darr[0].copy()                 # make a copy\n",
    "\n",
    "my3darr[0]=42                                # scalar values can be assigned to my3darr[0]\n",
    "print('my3darr[0] =', 42)\n",
    "print('my3darr =\\n', my3darr)\n",
    "my3darr[0]=old_values                        # arrays can also be assigned to my3darr[0]\n",
    "print('my3darr[0]=old_values')\n",
    "print('my3darr = \\n', my3darr)"
   ]
  },
  {
   "cell_type": "markdown",
   "metadata": {},
   "source": [
    "Numpy arrays also support boolean indexing."
   ]
  },
  {
   "cell_type": "code",
   "execution_count": 8,
   "metadata": {},
   "outputs": [
    {
     "name": "stdout",
     "output_type": "stream",
     "text": [
      "my2darr =\n",
      " [[ 1  2  3  4]\n",
      " [ 5  6  7  8]\n",
      " [ 9 10 11 12]]\n",
      "\n",
      "my2darr[my2darr % 3 == 0] = [ 3  6  9 12]\n",
      "my2darr[2:, my2darr[2,:] % 3 == 0] = [[ 9 12]]\n"
     ]
    }
   ],
   "source": [
    "my2darr = np.arange(1,13,1).reshape(3,4)\n",
    "print('my2darr =\\n', my2darr)\n",
    "\n",
    "divBy3 = my2darr[my2darr % 3 == 0]\n",
    "print('\\nmy2darr[my2darr % 3 == 0] =', divBy3)            # returns all the elements divisible by 3 in an ndarray\n",
    "\n",
    "divBy3LastRow = my2darr[2:, my2darr[2,:] % 3 == 0]\n",
    "print('my2darr[2:, my2darr[2,:] % 3 == 0] =', divBy3LastRow)    # returns elements in the last row divisible by 3"
   ]
  },
  {
   "cell_type": "markdown",
   "metadata": {},
   "source": [
    "More indexing examples."
   ]
  },
  {
   "cell_type": "code",
   "execution_count": 9,
   "metadata": {},
   "outputs": [
    {
     "name": "stdout",
     "output_type": "stream",
     "text": [
      "my2darr =\n",
      " [[ 1  2  3]\n",
      " [ 4  5  6]\n",
      " [ 7  8  9]\n",
      " [10 11 12]]\n",
      "indices = [2, 1, 0, 3] \n",
      "\n",
      "my2darr[indices,:] =\n",
      " [[ 7  8  9]\n",
      " [ 4  5  6]\n",
      " [ 1  2  3]\n",
      " [10 11 12]]\n",
      "\n",
      "rowIndex = [0, 0, 1, 2, 3]\n",
      "columnIndex = [0, 2, 0, 1, 2] \n",
      "\n",
      "my2darr[rowIndex,columnIndex] = [ 1  3  4  8 12]\n"
     ]
    }
   ],
   "source": [
    "my2darr = np.arange(1,13,1).reshape(4,3)\n",
    "print('my2darr =\\n', my2darr)\n",
    "\n",
    "indices = [2,1,0,3]    # selected row indices\n",
    "print('indices =', indices, '\\n')\n",
    "print('my2darr[indices,:] =\\n', my2darr[indices,:])  # this will shuffle the rows of my2darr\n",
    "\n",
    "rowIndex = [0,0,1,2,3]     # row index into my2darr\n",
    "print('\\nrowIndex =', rowIndex)\n",
    "columnIndex = [0,2,0,1,2]  # column index into my2darr\n",
    "print('columnIndex =', columnIndex, '\\n')\n",
    "print('my2darr[rowIndex,columnIndex] =', my2darr[rowIndex,columnIndex])"
   ]
  },
  {
   "cell_type": "markdown",
   "metadata": {},
   "source": [
    "__Problem:__ A $3\\times 4\\times 4$ array is created with “arr = np.linspace(1, 48, 48).reshape(3, 4,\n",
    "4)”. Index or slice this array to obtain the following:\n",
    "- 20.0\n",
    "- [ 9. 10. 11. 12.]\n",
    "- [[33. 34. 35. 36.] [37. 38. 39. 40.] [41. 42. 43. 44.] [45. 46. 47. 48.]]\n",
    "- [[5. 6.], [21. 22.] [37. 38.]]\n",
    "- [[36. 35.] [40. 39.] [44. 43.] [48. 47.]]\n",
    "- [[13. 9. 5. 1.] [29. 25. 21. 17.] [45. 41. 37. 33.]]\n",
    "- [[1. 4.] [45. 48.]]\n",
    "- [[25. 26. 27. 28.], [29. 30. 31. 32.], [33. 34. 35. 36.], [37. 38. 39. 40.]]"
   ]
  },
  {
   "cell_type": "code",
   "execution_count": 46,
   "metadata": {},
   "outputs": [
    {
     "name": "stdout",
     "output_type": "stream",
     "text": [
      "arr[1, 0, 3] =  20.0 \n",
      "\n",
      "arr[2, :, :] = \n",
      " [[33. 34. 35. 36.]\n",
      " [37. 38. 39. 40.]\n",
      " [41. 42. 43. 44.]\n",
      " [45. 46. 47. 48.]] \n",
      "\n",
      "arr[:, 1, 0:2] = \n",
      " [[ 5.  6.]\n",
      " [21. 22.]\n",
      " [37. 38.]] \n",
      "\n",
      "[[36. 35.]\n",
      " [40. 39.]\n",
      " [44. 43.]\n",
      " [48. 47.]] \n",
      "\n",
      "[[13.  9.  5.  1.]\n",
      " [29. 25. 21. 17.]\n",
      " [45. 41. 37. 33.]] \n",
      "\n",
      "[[ 1.  4.]\n",
      " [45. 48.]] \n",
      "\n",
      "[[25.0, 26.0, 27.0, 28.0], [29.0, 30.0, 31.0, 32.0], [33.0, 34.0, 35.0, 36.0], [37.0, 38.0, 39.0, 40.0]]\n"
     ]
    }
   ],
   "source": [
    "arr = np.linspace(1, 48, 48).reshape(3, 4, 4)\n",
    "\n",
    "print('arr[1, 0, 3] = ', arr[1, 0, 3], '\\n')\n",
    "print('arr[2, :, :] = \\n', arr[2,:,:], '\\n')\n",
    "print('arr[:, 1, 0:2] = \\n', arr[:, 1, 0:2], '\\n')\n",
    "\n",
    "###################################################\n",
    "\n",
    "swap = np.array([3,2])    # swap will swap 3rd and 2nd elements\n",
    "x = arr[2, :]\n",
    "print(x[:, swap], '\\n')\n",
    "\n",
    "##################################################\n",
    "\n",
    "x = arr[:,:,0]    # select all blocks, all rows, first column\n",
    "arr2 = np.array([0,1,2])\n",
    "\n",
    "x_t = x.T    #Transpose matrix\n",
    "\n",
    "# mask for manipulating the matrix\n",
    "arr3 = np.array([3,2,1,0])\n",
    "print(x_t[:][arr3].T, '\\n')\n",
    "\n",
    "###################################################\n",
    "\n",
    "arr_blocks = np.array([0,2]) \n",
    "arr[arr_blocks]\n",
    "\n",
    "arr_rows = np.array([0,3]) \n",
    "\n",
    "x = arr[arr_blocks][:, arr_rows]    # index/slice the matrix\n",
    "arr_index = np.array([0,3])\n",
    "\n",
    "# x[:][0,0][arr_index] gets the first values\n",
    "# x[:][1,1][arr_index] gets the second values\n",
    "\n",
    "print(np.array([x[:][0,0][arr_index], x[:][1,1][arr_index]]), '\\n') #print [[ 1.  4.][45. 48.]]\n",
    "\n",
    "#################################################\n",
    "\n",
    "arr_blocks = np.array([1,2])\n",
    "\n",
    "x = arr[arr_blocks]    # gets the columns\n",
    "x\n",
    "arr_rows = np.array([2,3])\n",
    "\n",
    "x = arr[arr_blocks][:, arr_rows]    # index/slice the matrix\n",
    "\n",
    "arr_index = np.array([0,3])\n",
    "\n",
    "# arr[1][2:4,:] gets second block, last two rows\n",
    "# arr[2][0:2,:] gets third block, first two rows\n",
    "\n",
    "print(np.array([arr[1][2:4,:], arr[2][0:2,:]]).reshape(4,4).tolist())    # prints list"
   ]
  },
  {
   "cell_type": "markdown",
   "metadata": {},
   "source": [
    "## 3.1.4 Numpy Arithmetic and Statistical Functions\n",
    "\n",
    "Just as Numpy provides in-built arithmetic operators, NumPy also provides many built-in mathematical functions available for manipulating elements of an ndarray."
   ]
  },
  {
   "cell_type": "code",
   "execution_count": 97,
   "metadata": {},
   "outputs": [
    {
     "name": "stdout",
     "output_type": "stream",
     "text": [
      "y = [-1.4  0.4 -3.2  2.5  3.4] \n",
      "\n",
      "np.abs(y) = [1.4 0.4 3.2 2.5 3.4]\n",
      "np.sqrt(abs(y)) = [1.18321596 0.63245553 1.78885438 1.58113883 1.84390889]\n",
      "np.sign(y) = [-1.  1. -1.  1.  1.]\n",
      "np.exp(y) = [ 0.24659696  1.4918247   0.0407622  12.18249396 29.96410005]\n",
      "np.sort(y) = [-3.2 -1.4  0.4  2.5  3.4]\n",
      "y sorted with .sort() = [-3.2 -1.4  0.4  2.5  3.4]\n",
      "\n",
      "z =\n",
      " [[-0.41376882 -1.7937815  -1.16743436]\n",
      " [ 0.7715407   2.40869622 -0.44810209]\n",
      " [ 1.04347825 -0.33505579 -0.62520217]\n",
      " [ 1.29174612  1.21068127 -0.50052904]\n",
      " [ 0.04523497 -0.29356771 -0.39775027]]\n",
      "sort z along rows =\n",
      " [[-1.7937815  -1.16743436 -0.41376882]\n",
      " [-0.44810209  0.7715407   2.40869622]\n",
      " [-0.62520217 -0.33505579  1.04347825]\n",
      " [-0.50052904  1.21068127  1.29174612]\n",
      " [-0.39775027 -0.29356771  0.04523497]]\n"
     ]
    }
   ],
   "source": [
    "y = np.array([-1.4, 0.4, -3.2, 2.5, 3.4])    \n",
    "print('y =', y, '\\n')\n",
    "\n",
    "print('np.abs(y) =', np.abs(y))                # convert to absolute values\n",
    "print('np.sqrt(abs(y)) =', np.sqrt(abs(y)))    # apply square root to each element\n",
    "print('np.sign(y) =', np.sign(y))              # get the sign of each element\n",
    "print('np.exp(y) =', np.exp(y))                # apply exponentiation\n",
    "print('np.sort(y) =', np.sort(y))              # sort array\n",
    "y.sort()\n",
    "print('y sorted with .sort() =',y)            # sort array another way\n",
    "\n",
    "z = np.random.randn(5,3)\n",
    "print('\\nz =\\n', z)\n",
    "z.sort(1)\n",
    "print('sort z along rows =\\n',z)               # sort each one-dimensional section"
   ]
  },
  {
   "cell_type": "code",
   "execution_count": 76,
   "metadata": {},
   "outputs": [
    {
     "name": "stdout",
     "output_type": "stream",
     "text": [
      "x = [-2 -1  0  1  2]\n",
      "y = [-0.70843934 -1.23692566  0.00786893 -1.60322399 -0.321284  ] \n",
      "\n",
      "np.add(x,y) = [-2.70843934 -2.23692566  0.00786893 -0.60322399  1.678716  ]\n",
      "np.subtract(x,y) = [-1.29156066  0.23692566 -0.00786893  2.60322399  2.321284  ]\n",
      "np.multiply(x,y) = [ 1.41687868  1.23692566  0.         -1.60322399 -0.642568  ]\n",
      "np.divide(x,y) = [ 2.82310692  0.80845603  0.         -0.62374316 -6.22502206]\n",
      "np.maximum(x,y) = [-0.70843934 -1.          0.00786893  1.          2.        ]\n"
     ]
    }
   ],
   "source": [
    "x = np.arange(-2,3)\n",
    "y = np.random.randn(5)\n",
    "print('x =', x)\n",
    "print('y =', y, '\\n')\n",
    "\n",
    "print('np.add(x,y) =', np.add(x,y))                # element-wise addition       x + y\n",
    "print('np.subtract(x,y) =', np.subtract(x,y))      # element-wise subtraction    x - y\n",
    "print('np.multiply(x,y) =', np.multiply(x,y))      # element-wise multiplication x * y\n",
    "print('np.divide(x,y) =', np.divide(x,y))          # element-wise division       x / y\n",
    "print('np.maximum(x,y) =', np.maximum(x,y))        # element-wise maximum        max(x,y)"
   ]
  },
  {
   "cell_type": "markdown",
   "metadata": {},
   "source": [
    "__Problem:__ Look up how to use trigonometric functions with NumPy. Then create an array consisting of 5 elements ranging from 0 to $\\pi$, and compute the element-wise $\\sin,\\,\\cos,\\,\\tan$ of this array."
   ]
  },
  {
   "cell_type": "code",
   "execution_count": 23,
   "metadata": {},
   "outputs": [
    {
     "name": "stdout",
     "output_type": "stream",
     "text": [
      "theta =  [0.         0.78539816 1.57079633 2.35619449 3.14159265]\n",
      "\n",
      "sin(theta) =  [0.00000000e+00 7.07106781e-01 1.00000000e+00 7.07106781e-01\n",
      " 1.22464680e-16]\n",
      "\n",
      "cos(theta) =  [ 1.00000000e+00  7.07106781e-01  6.12323400e-17 -7.07106781e-01\n",
      " -1.00000000e+00]\n",
      "\n",
      "tan(theta) =  [ 0.00000000e+00  1.00000000e+00  1.63312394e+16 -1.00000000e+00\n",
      " -1.22464680e-16]\n"
     ]
    }
   ],
   "source": [
    "theta = np.linspace(0, np.pi, 5)\n",
    "\n",
    "print(\"theta = \", theta)\n",
    "print(\"\\nsin(theta) = \", np.sin(theta))\n",
    "print(\"\\ncos(theta) = \", np.cos(theta))\n",
    "print(\"\\ntan(theta) = \", np.tan(theta))"
   ]
  },
  {
   "cell_type": "markdown",
   "metadata": {},
   "source": [
    "Note that these values are computed to within machine precision. This is why values that should be zero do not always hit exactly zero. Note that we can also use inverse trigonometric functions."
   ]
  },
  {
   "cell_type": "code",
   "execution_count": 24,
   "metadata": {},
   "outputs": [
    {
     "name": "stdout",
     "output_type": "stream",
     "text": [
      "x =  [-1, 0, 1]\n",
      "arcsin(x) =  [-1.57079633  0.          1.57079633]\n",
      "arccos(x) =  [3.14159265 1.57079633 0.        ]\n",
      "arctan(x) =  [-0.78539816  0.          0.78539816]\n"
     ]
    }
   ],
   "source": [
    "x = [-1, 0, 1]\n",
    "print(\"x = \", x)\n",
    "print(\"arcsin(x) = \", np.arcsin(x))\n",
    "print(\"arccos(x) = \", np.arccos(x))\n",
    "print(\"arctan(x) = \", np.arctan(x))"
   ]
  },
  {
   "cell_type": "markdown",
   "metadata": {},
   "source": [
    "__Problem:__ Look up how to use logarithms and exponentials with NumPy. Try this on an array with 10 elements between 1 and 10."
   ]
  },
  {
   "cell_type": "code",
   "execution_count": 27,
   "metadata": {},
   "outputs": [
    {
     "name": "stdout",
     "output_type": "stream",
     "text": [
      "x = [ 1.  2.  3.  4.  5.  6.  7.  8.  9. 10.]\n",
      "\n",
      "e^x = [2.71828183e+00 7.38905610e+00 2.00855369e+01 5.45981500e+01\n",
      " 1.48413159e+02 4.03428793e+02 1.09663316e+03 2.98095799e+03\n",
      " 8.10308393e+03 2.20264658e+04]\n",
      "\n",
      "2^x = [   2.    4.    8.   16.   32.   64.  128.  256.  512. 1024.]\n",
      "\n",
      "3^x = [3.0000e+00 9.0000e+00 2.7000e+01 8.1000e+01 2.4300e+02 7.2900e+02\n",
      " 2.1870e+03 6.5610e+03 1.9683e+04 5.9049e+04] \n",
      "\n",
      "\n",
      "ln(x) = [0.         0.69314718 1.09861229 1.38629436 1.60943791 1.79175947\n",
      " 1.94591015 2.07944154 2.19722458 2.30258509]\n",
      "\n",
      "log2(x) = [0.         1.         1.5849625  2.         2.32192809 2.5849625\n",
      " 2.80735492 3.         3.169925   3.32192809]\n",
      "\n",
      "log10(x) = [0.         0.30103    0.47712125 0.60205999 0.69897    0.77815125\n",
      " 0.84509804 0.90308999 0.95424251 1.        ]\n"
     ]
    }
   ],
   "source": [
    "x = np.linspace(1,10,10)\n",
    "print(\"x =\", x)\n",
    "print(\"\\ne^x =\", np.exp(x))\n",
    "print(\"\\n2^x =\", np.exp2(x))\n",
    "print(\"\\n3^x =\", np.power(3., x), '\\n')\n",
    "\n",
    "print(\"\\nln(x) =\", np.log(x))\n",
    "print(\"\\nlog2(x) =\", np.log2(x))\n",
    "print(\"\\nlog10(x) =\", np.log10(x))"
   ]
  },
  {
   "cell_type": "markdown",
   "metadata": {},
   "source": [
    "A first step in exploring any dataset is often to compute various summary statistics. Perhaps the most common summary statistics are the mean and standard deviation. These help us understand the central tendency and spread of our dataset, but other aggregations are also useful, such as the sum, product, median, minimum/maximum, quantiles etc. NumPy has fast, in-built aggregation functions for working on arrays."
   ]
  },
  {
   "cell_type": "code",
   "execution_count": 49,
   "metadata": {},
   "outputs": [
    {
     "name": "stdout",
     "output_type": "stream",
     "text": [
      "y = [-3.2 -1.4  0.4  2.5  3.4] \n",
      "\n",
      "Min = -3.2\n",
      "Max = 3.4\n",
      "Average = 0.34000000000000014\n",
      "Std deviation = 2.432776191925595\n",
      "Median = 0.4\n",
      "25th Percentile = -1.4\n",
      "50th Percentile = 0.4\n",
      "75th Percentile = 2.5\n",
      "Sum = 1.7000000000000006\n",
      "Cumulative sum = [-3.2 -4.6 -4.2 -1.7  1.7]\n"
     ]
    }
   ],
   "source": [
    "y = np.array([-3.2, -1.4, 0.4, 2.5, 3.4])    \n",
    "print('y =', y, '\\n')\n",
    "\n",
    "print(\"Min =\", np.min(y))             # min \n",
    "print(\"Max =\", np.max(y))             # max \n",
    "print(\"Average =\", np.mean(y))        # mean/average\n",
    "print(\"Std deviation =\", np.std(y))   # standard deviation\n",
    "print(\"Median =\", np.median(y))   # median\n",
    "print(\"25th Percentile =\", np.percentile(y, 25))   # 25th Percentile\n",
    "print(\"50th Percentile =\", np.percentile(y, 50))   # 50th Percentile\n",
    "print(\"75th Percentile =\", np.percentile(y, 75))   # 75th Percentile\n",
    "print(\"Sum =\", np.sum(y))             # sum\n",
    "print(\"Cumulative sum =\", y.cumsum())   #cumulative sum"
   ]
  },
  {
   "cell_type": "markdown",
   "metadata": {},
   "source": [
    "Functions like `mean` and `sum` can take an optional `axis` argument that computes the statistic over the given axis, resulting in an array with one fewer dimension."
   ]
  },
  {
   "cell_type": "code",
   "execution_count": 81,
   "metadata": {},
   "outputs": [
    {
     "name": "stdout",
     "output_type": "stream",
     "text": [
      "arr =\n",
      " [[ 2.13617928  1.60362642 -0.3373897  -0.40569409]\n",
      " [-0.30777833 -2.15814811 -0.14862767  0.82202693]\n",
      " [ 1.04534728  1.27808642  1.86378224  0.10793311]\n",
      " [ 1.05285462  0.63906139  0.99257464  1.52395399]\n",
      " [ 0.37031579  1.54764987  1.2396135  -1.21158418]]\n",
      "\n",
      "Average across the rows = [ 0.74918048 -0.44813179  1.07378726  1.05211116  0.48649875]\n",
      "Sum down the columns = [4.29691865 2.91027599 3.60995301 0.83663576]\n"
     ]
    }
   ],
   "source": [
    "arr = np.random.randn(5,4)\n",
    "\n",
    "print('arr =\\n',arr)\n",
    "\n",
    "print(\"\\nAverage across the rows =\", arr.mean(axis=1))          # mean/average across the rows\n",
    "print(\"Sum down the columns =\", arr.sum(axis=0))              # sum down the columns"
   ]
  },
  {
   "cell_type": "markdown",
   "metadata": {},
   "source": [
    "## 3.1.5 Array-Oriented Programming with Arrays\n",
    "\n",
    "Using NumPy arrays enables us to express many kinds of data processing tasks as concise array expressions that might otherwise require writing loops. Recall, this practice of replacing explicit loops with array expressions is commonly referred to as _vectorisation_. In general, vectorised array operations will often be one or two (or more) orders of magnitude faster than their pure Python equivalents, with the biggest impact in any kind of numerical computation.\n",
    "\n",
    "Suppose we wish to evaluate the function $\\sqrt{x^2+y^2}$ across a regular grid of values. The np.meshgrid function takes two 1D arrays and produces 2D matrices corresponding to all pairs of (x,y) in the two arrays."
   ]
  },
  {
   "cell_type": "code",
   "execution_count": 79,
   "metadata": {},
   "outputs": [
    {
     "name": "stdout",
     "output_type": "stream",
     "text": [
      "ys =\n",
      " [[-5.   -5.   -5.   ... -5.   -5.   -5.  ]\n",
      " [-4.99 -4.99 -4.99 ... -4.99 -4.99 -4.99]\n",
      " [-4.98 -4.98 -4.98 ... -4.98 -4.98 -4.98]\n",
      " ...\n",
      " [ 4.97  4.97  4.97 ...  4.97  4.97  4.97]\n",
      " [ 4.98  4.98  4.98 ...  4.98  4.98  4.98]\n",
      " [ 4.99  4.99  4.99 ...  4.99  4.99  4.99]]\n",
      "\n",
      "z =\n",
      " [[7.07106781 7.06400028 7.05693985 ... 7.04988652 7.05693985 7.06400028]\n",
      " [7.06400028 7.05692568 7.04985815 ... 7.04279774 7.04985815 7.05692568]\n",
      " [7.05693985 7.04985815 7.04278354 ... 7.03571603 7.04278354 7.04985815]\n",
      " ...\n",
      " [7.04988652 7.04279774 7.03571603 ... 7.0286414  7.03571603 7.04279774]\n",
      " [7.05693985 7.04985815 7.04278354 ... 7.03571603 7.04278354 7.04985815]\n",
      " [7.06400028 7.05692568 7.04985815 ... 7.04279774 7.04985815 7.05692568]]\n"
     ]
    },
    {
     "data": {
      "text/plain": [
       "Text(0.5, 1.0, 'Image plot of $\\\\sqrt{x^2+y^2}$ for a grid of values')"
      ]
     },
     "execution_count": 79,
     "metadata": {},
     "output_type": "execute_result"
    },
    {
     "data": {
      "image/png": "[encoded data removed]",
      "text/plain": [
       "<Figure size 640x480 with 2 Axes>"
      ]
     },
     "metadata": {},
     "output_type": "display_data"
    }
   ],
   "source": [
    "points = np.arange(-5,5,0.01)                   # 1000 equally spaced points\n",
    "\n",
    "xs, ys = np.meshgrid(points,points)\n",
    "\n",
    "print('ys =\\n', ys)\n",
    "\n",
    "z = np.sqrt(xs ** 2 + ys ** 2)\n",
    "print('\\nz =\\n', z)\n",
    "\n",
    "import matplotlib.pyplot as plt                  # preview of visualisations\n",
    "plt.imshow(z, cmap = plt.cm.gray); plt.colorbar()\n",
    "plt.title(\"Image plot of $\\sqrt{x^2+y^2}$ for a grid of values\")"
   ]
  },
  {
   "cell_type": "markdown",
   "metadata": {},
   "source": [
    "## 3.1.6 Numpy linear algebra\n",
    "\n",
    "Numpy provides many functions to support linear algebra operations."
   ]
  },
  {
   "cell_type": "code",
   "execution_count": 13,
   "metadata": {},
   "outputs": [
    {
     "name": "stdout",
     "output_type": "stream",
     "text": [
      "X =\n",
      " [[ 1.28949267 -1.46920848 -0.18910187]\n",
      " [ 2.10733412 -2.06260047 -0.58372093]] \n",
      "\n",
      "Transpose of X, X.T =\n",
      " [[ 1.28949267  2.10733412]\n",
      " [-1.46920848 -2.06260047]\n",
      " [-0.18910187 -0.58372093]] \n",
      "\n",
      "y = [-1.03018029  1.8029258  -1.54254893] \n",
      "\n",
      "Matrix-vector multiplication\n",
      "X.dot(y) =\n",
      " [-3.68558492 -4.98923159] \n",
      "\n",
      "Matrix-matrix product\n",
      "X.dot(X.T) = [[3.85712442 5.85816473]\n",
      " [5.85816473 9.03590793]]\n",
      "\n",
      "X.T.dot(X) =\n",
      " [[ 6.10364845 -6.24112192 -1.4739405 ]\n",
      " [-6.24112192  6.41289426  1.48181313]\n",
      " [-1.4739405   1.48181313  0.37648964]]\n"
     ]
    }
   ],
   "source": [
    "X = np.random.randn(2,3)                         # create a 2 x 3 random matrix\n",
    "print('X =\\n', X, '\\n')\n",
    "print('Transpose of X, X.T =\\n', X.T, '\\n')      # matrix transpose operation X^T\n",
    "\n",
    "y = np.random.randn(3) # random vector \n",
    "print('y =', y, '\\n')\n",
    "\n",
    "print('Matrix-vector multiplication')\n",
    "print('X.dot(y) =\\n', X.dot(y), '\\n')            # matrix-vector multiplication  X * y\n",
    "\n",
    "print('Matrix-matrix product')\n",
    "print('X.dot(X.T) =', X.dot(X.T))        # matrix-matrix multiplication  X * X^T\n",
    "print('\\nX.T.dot(X) =\\n', X.T.dot(X))      # matrix-matrix multiplication  X^T * X"
   ]
  },
  {
   "cell_type": "markdown",
   "metadata": {},
   "source": [
    "Simple transposing with .T is a special case of swapping axes. ndarray has the method swapaxes, which takes a pair of axis numbers and switches the indicated axes to rearrange the data."
   ]
  }
 ],
 "metadata": {
  "kernelspec": {
   "display_name": "Python 3 (ipykernel)",
   "language": "python",
   "name": "python3"
  },
  "language_info": {
   "codemirror_mode": {
    "name": "ipython",
    "version": 3
   },
   "file_extension": ".py",
   "mimetype": "text/x-python",
   "name": "python",
   "nbconvert_exporter": "python",
   "pygments_lexer": "ipython3",
   "version": "3.9.12"
  }
 },
 "nbformat": 4,
 "nbformat_minor": 2
}
