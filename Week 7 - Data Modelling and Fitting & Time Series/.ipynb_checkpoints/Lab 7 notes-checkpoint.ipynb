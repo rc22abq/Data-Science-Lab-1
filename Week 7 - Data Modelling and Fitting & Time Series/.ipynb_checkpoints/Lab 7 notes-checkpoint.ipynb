{
 "cells": [
  {
   "cell_type": "markdown",
   "metadata": {},
   "source": [
    "# Lab 7: Time Series\n",
    "\n",
    "The following tutorial contains Python examples for Time series. As pandas was originally developed in the context of financial modeling, it has an extensive set of tools for working with dates, times and time-indexed data. As such, we will be discussing these here. Much of this is based on McKinney and VanderPlas.\n",
    "\n",
    "Read the step-by-step instructions below carefully. To execute the code, click on the corresponding cell and press the SHIFT-ENTER keys simultaneously."
   ]
  },
  {
   "cell_type": "markdown",
   "metadata": {},
   "source": [
    "## 7.1 Dates and times in Python\n",
    "\n",
    "In general, anything that is observed or measured at many different points in time forms a time series. As such, time series are applicable to a range of fields, including finance, economics, ecology, neuroscience and physics. In a rough sense, we can split time series into two camps:\n",
    "\n",
    "- _Fixed frequency_: This means that data points occur at regular intervals. This could be every 5 seconds, 5 minutes, once a week etc.\n",
    "- _Irregular frequency_: This means there is no fixed unit of time between measurements.\n",
    "\n",
    "How we mark and refer to time series data depends on the application. We may have one of the following:\n",
    "\n",
    "- _Timestamps_: These are particular moments in time, e.g. 2nd February at 15:59pm.\n",
    "- _Fixed periods_: This may be a month (e.g. January 2023) or a year (2022), say.\n",
    "- _Intervals of time_: These are indicated a start and end timestamp. In a sense, periods can be thought of as special cases of intervals.\n",
    "- _Time Deltas or durations_: These are exact lengths of time, e.g. a duration of 30seconds.\n",
    "\n",
    "We start the discussion  of time series by discussing dates and times. Python's basic objects for these resides in the in-built `datetime` module."
   ]
  },
  {
   "cell_type": "code",
   "execution_count": 23,
   "metadata": {},
   "outputs": [
    {
     "name": "stdout",
     "output_type": "stream",
     "text": [
      "2023-02-21 13:11:33.502990\n",
      "2023\n",
      "2\n",
      "21\n"
     ]
    }
   ],
   "source": [
    "from datetime import datetime\n",
    "\n",
    "now = datetime.now()\n",
    "\n",
    "print(now)\n",
    "print(now.year)\n",
    "print(now.month)\n",
    "print(now.day)"
   ]
  },
  {
   "cell_type": "markdown",
   "metadata": {},
   "source": [
    "There is also a third-party `dateutil` module which can quickly perform a host of useful functionalities on dates and times."
   ]
  },
  {
   "cell_type": "code",
   "execution_count": 4,
   "metadata": {},
   "outputs": [
    {
     "name": "stdout",
     "output_type": "stream",
     "text": [
      "2023-12-25 00:00:00\n",
      "Monday\n"
     ]
    }
   ],
   "source": [
    "from dateutil import parser\n",
    "\n",
    "date = parser.parse(\"25th of December, 2023\")\n",
    "print(date)\n",
    "\n",
    "# We can then do things like print the day of the week.\n",
    "\n",
    "print(date.strftime('%A'))"
   ]
  },
  {
   "cell_type": "markdown",
   "metadata": {},
   "source": [
    "What we have done here is used one of the standard string format codes for printing dates (`'%A'`). More information on this can be read in the `strftime` section of Python's `datetime` documentation."
   ]
  },
  {
   "cell_type": "code",
   "execution_count": 5,
   "metadata": {},
   "outputs": [
    {
     "data": {
      "text/plain": [
       "datetime.timedelta(days=1642)"
      ]
     },
     "execution_count": 5,
     "metadata": {},
     "output_type": "execute_result"
    }
   ],
   "source": [
    "delta = datetime(2018, 3, 1) - datetime(2013, 9, 1)\n",
    "delta"
   ]
  },
  {
   "cell_type": "code",
   "execution_count": 6,
   "metadata": {},
   "outputs": [
    {
     "name": "stdout",
     "output_type": "stream",
     "text": [
      "1642\n",
      "0\n"
     ]
    }
   ],
   "source": [
    "print(delta.days)\n",
    "print(delta.seconds)"
   ]
  },
  {
   "cell_type": "markdown",
   "metadata": {},
   "source": [
    "We can also add (or subtract) a `timedelta` or multiple thereof to a `datetime` object to produce a new shifted object."
   ]
  },
  {
   "cell_type": "code",
   "execution_count": 10,
   "metadata": {},
   "outputs": [
    {
     "data": {
      "text/plain": [
       "datetime.datetime(2023, 3, 5, 0, 0)"
      ]
     },
     "execution_count": 10,
     "metadata": {},
     "output_type": "execute_result"
    }
   ],
   "source": [
    "from datetime import timedelta\n",
    "\n",
    "start =datetime(2023,2,21)\n",
    "start + timedelta(12)"
   ]
  },
  {
   "cell_type": "code",
   "execution_count": 9,
   "metadata": {},
   "outputs": [
    {
     "data": {
      "text/plain": [
       "datetime.datetime(2022, 12, 28, 0, 0)"
      ]
     },
     "execution_count": 9,
     "metadata": {},
     "output_type": "execute_result"
    }
   ],
   "source": [
    "start - 2 * timedelta(12)"
   ]
  },
  {
   "cell_type": "markdown",
   "metadata": {},
   "source": [
    "## 7.2 Dates and Times in NumPy\n",
    "\n",
    "NumPy's `datetime64` dtype encodes dates as 64-bit integers, and thus allows arrays of dates to be represented compactly and operated on in an efficient way."
   ]
  },
  {
   "cell_type": "code",
   "execution_count": 12,
   "metadata": {},
   "outputs": [
    {
     "name": "stdout",
     "output_type": "stream",
     "text": [
      "2023-02-21\n"
     ]
    },
    {
     "data": {
      "text/plain": [
       "array(['2023-02-21', '2023-02-22', '2023-02-23', '2023-02-24',\n",
       "       '2023-02-25', '2023-02-26', '2023-02-27', '2023-02-28',\n",
       "       '2023-03-01', '2023-03-02', '2023-03-03', '2023-03-04'],\n",
       "      dtype='datetime64[D]')"
      ]
     },
     "execution_count": 12,
     "metadata": {},
     "output_type": "execute_result"
    }
   ],
   "source": [
    "import numpy as np\n",
    "\n",
    "date = np.array('2023-02-21', dtype=np.datetime64)\n",
    "print(date)\n",
    "\n",
    "# We can now perform vectorised operations quickly\n",
    "date + np.arange(12)"
   ]
  },
  {
   "cell_type": "markdown",
   "metadata": {},
   "source": [
    "Because of the uniform type in NumPy `datetime64` arrays, this kind of operation can be accomplished much more quickly than if we were working directy with Python's `datetime` objects. This is particularly important when arrays get large.\n",
    "\n",
    "There is an important detail of the `datetime64` and the related `timedelta64` objects that we should keep in mind: they are build on a fundamental time unit. Since `datetime64` is limited to 64-bit precision, the range of encodable times is $2^{64}$ times this fundamental unit, i.e. `datetime64` imposes a trade-off between _time resolution_ and _maximum time span_.\n",
    "\n",
    "__Example:__ Suppose we want a time resolution of 1 nanosecond. Then we only have enough information to encode a range of $2^{64}$ nanoseconds (just under 600 years).\n",
    "\n",
    "As for how we obtain this fundamental unit, this is inferred by NumPy based on the input."
   ]
  },
  {
   "cell_type": "code",
   "execution_count": 13,
   "metadata": {},
   "outputs": [
    {
     "data": {
      "text/plain": [
       "numpy.datetime64('2023-02-21T12:59:59.500000000')"
      ]
     },
     "execution_count": 13,
     "metadata": {},
     "output_type": "execute_result"
    }
   ],
   "source": [
    "np.datetime64('2023-02-21')                      # day-based\n",
    "np.datetime64('2023-02-21 12:50')                # minute-based\n",
    "np.datetime64('2023-02-21 12:59:59.50', 'ns')    # forced a nanosecond-based time"
   ]
  },
  {
   "cell_type": "markdown",
   "metadata": {},
   "source": [
    "## 7.3 Dates and Times in pandas\n",
    "\n",
    "As expected, pandas builds upon the tools above and, in doing so, provides a `Timestamp` object. This combines the ease of use of `datetime` and `dateutil` with the efficient storage and vectorised interface of `np.datetime64`. We can form a group of these `Timestamp` objects and construct a `DatetimeIndex` that can be used to index data in a `Series` or `DataFrame`."
   ]
  },
  {
   "cell_type": "code",
   "execution_count": 14,
   "metadata": {},
   "outputs": [
    {
     "data": {
      "text/plain": [
       "Timestamp('2023-12-25 00:00:00')"
      ]
     },
     "execution_count": 14,
     "metadata": {},
     "output_type": "execute_result"
    }
   ],
   "source": [
    "import pandas as pd\n",
    "date = pd.to_datetime('25th of December, 2023')\n",
    "date"
   ]
  },
  {
   "cell_type": "code",
   "execution_count": 15,
   "metadata": {},
   "outputs": [
    {
     "data": {
      "text/plain": [
       "'Monday'"
      ]
     },
     "execution_count": 15,
     "metadata": {},
     "output_type": "execute_result"
    }
   ],
   "source": [
    "date.strftime('%A')"
   ]
  },
  {
   "cell_type": "code",
   "execution_count": 16,
   "metadata": {},
   "outputs": [
    {
     "data": {
      "text/plain": [
       "DatetimeIndex(['2023-12-25', '2023-12-26', '2023-12-27', '2023-12-28',\n",
       "               '2023-12-29', '2023-12-30', '2023-12-31', '2024-01-01',\n",
       "               '2024-01-02', '2024-01-03', '2024-01-04', '2024-01-05'],\n",
       "              dtype='datetime64[ns]', freq=None)"
      ]
     },
     "execution_count": 16,
     "metadata": {},
     "output_type": "execute_result"
    }
   ],
   "source": [
    "date + pd.to_timedelta(np.arange(12), 'D')"
   ]
  },
  {
   "cell_type": "markdown",
   "metadata": {},
   "source": [
    "## 7.4 Time Series Basics\n",
    "\n",
    "The fundamental pandas data structures for working with time series data is as follows:\n",
    "\n",
    "- For _timestamps_, pandas provides the `Timestamp` type. This is essentially a replacement for Python's native `datetime` but it is based on the more efficient `np.datetime64` data type. The associated `Index` structure is `DatetimeIndex`.\n",
    "- For _time periods_, pandas provides the `Period` type. This encodes a fixed-frequency interval based on `np.datetime64`. The associated index structure is `PeriodIndex`.\n",
    "- For _time deltas_ or _durations_, pandas provides the `timedelta` type. `Timedelta` is a more efficient replacement for Python's native `datetime.timedelta` type and is based on `np.timedelta64`. The associated index structure is `TimedeltaIndex`."
   ]
  },
  {
   "cell_type": "code",
   "execution_count": 18,
   "metadata": {},
   "outputs": [
    {
     "data": {
      "text/plain": [
       "2023-02-21    0.590193\n",
       "2023-02-23    0.159233\n",
       "2023-02-25    0.486841\n",
       "2023-02-27    1.568020\n",
       "2023-03-01   -1.184241\n",
       "2023-03-03   -0.425429\n",
       "dtype: float64"
      ]
     },
     "execution_count": 18,
     "metadata": {},
     "output_type": "execute_result"
    }
   ],
   "source": [
    "dates = [datetime(2023,2,21), datetime(2023,2,23), datetime(2023,2,25),\n",
    "         datetime(2023,2,27), datetime(2023,3,1), datetime(2023,3,3)]\n",
    "\n",
    "ts = pd.Series(np.random.randn(6), index=dates)\n",
    "ts"
   ]
  },
  {
   "cell_type": "code",
   "execution_count": 19,
   "metadata": {},
   "outputs": [
    {
     "data": {
      "text/plain": [
       "DatetimeIndex(['2023-02-21', '2023-02-23', '2023-02-25', '2023-02-27',\n",
       "               '2023-03-01', '2023-03-03'],\n",
       "              dtype='datetime64[ns]', freq=None)"
      ]
     },
     "execution_count": 19,
     "metadata": {},
     "output_type": "execute_result"
    }
   ],
   "source": [
    "ts.index    # Under the hood, these datetime objects have been put in a DatetimeIndex"
   ]
  },
  {
   "cell_type": "code",
   "execution_count": 24,
   "metadata": {},
   "outputs": [
    {
     "data": {
      "text/plain": [
       "2023-02-21    0\n",
       "2023-02-23    1\n",
       "2023-02-25    2\n",
       "2023-02-27    3\n",
       "2023-03-01    4\n",
       "2023-03-03    5\n",
       "dtype: int64"
      ]
     },
     "execution_count": 24,
     "metadata": {},
     "output_type": "execute_result"
    }
   ],
   "source": [
    "# Go the other way\n",
    "index = pd.DatetimeIndex(['2023-02-21', '2023-02-23', '2023-02-25',\n",
    "                         '2023-02-27', '2023-03-01', '2023-03-03'])\n",
    "data = pd.Series([0, 1, 2, 3, 4, 5], index=index)\n",
    "data"
   ]
  },
  {
   "cell_type": "markdown",
   "metadata": {},
   "source": [
    "Like other `Series`, arithmetic operations between differently indexed time series automatically aligns on the dates."
   ]
  },
  {
   "cell_type": "code",
   "execution_count": 26,
   "metadata": {},
   "outputs": [
    {
     "data": {
      "text/plain": [
       "2023-02-21    1.180386\n",
       "2023-02-23         NaN\n",
       "2023-02-25    0.973683\n",
       "2023-02-27         NaN\n",
       "2023-03-01   -2.368483\n",
       "2023-03-03         NaN\n",
       "dtype: float64"
      ]
     },
     "execution_count": 26,
     "metadata": {},
     "output_type": "execute_result"
    }
   ],
   "source": [
    "ts + ts[::2]    # ts[::2] selects ever second element in ts"
   ]
  },
  {
   "cell_type": "markdown",
   "metadata": {},
   "source": [
    "We can index and select data based on labels, just like any other `pd.Series'."
   ]
  },
  {
   "cell_type": "code",
   "execution_count": 32,
   "metadata": {},
   "outputs": [
    {
     "data": {
      "text/plain": [
       "0.4868413910408798"
      ]
     },
     "execution_count": 32,
     "metadata": {},
     "output_type": "execute_result"
    }
   ],
   "source": [
    "stamp = ts.index[2]\n",
    "ts[stamp]"
   ]
  },
  {
   "cell_type": "code",
   "execution_count": 34,
   "metadata": {},
   "outputs": [
    {
     "data": {
      "text/plain": [
       "-1.1842412759222425"
      ]
     },
     "execution_count": 34,
     "metadata": {},
     "output_type": "execute_result"
    }
   ],
   "source": [
    "ts['03/01/2023']"
   ]
  },
  {
   "cell_type": "code",
   "execution_count": 36,
   "metadata": {},
   "outputs": [
    {
     "data": {
      "text/plain": [
       "-1.1842412759222425"
      ]
     },
     "execution_count": 36,
     "metadata": {},
     "output_type": "execute_result"
    }
   ],
   "source": [
    "ts['20230301']"
   ]
  },
  {
   "cell_type": "code",
   "execution_count": 37,
   "metadata": {},
   "outputs": [
    {
     "data": {
      "text/plain": [
       "2023-01-01    0.276408\n",
       "2023-01-02    2.115489\n",
       "2023-01-03   -0.008425\n",
       "2023-01-04   -0.253190\n",
       "2023-01-05    0.333962\n",
       "                ...   \n",
       "2025-09-22   -2.122009\n",
       "2025-09-23   -0.638277\n",
       "2025-09-24    0.692710\n",
       "2025-09-25    0.748842\n",
       "2025-09-26    0.122542\n",
       "Freq: D, Length: 1000, dtype: float64"
      ]
     },
     "execution_count": 37,
     "metadata": {},
     "output_type": "execute_result"
    }
   ],
   "source": [
    "longer_ts = pd.Series(np.random.randn(1000), index=pd.date_range('1/1/2023', periods=1000))\n",
    "longer_ts"
   ]
  },
  {
   "cell_type": "code",
   "execution_count": 38,
   "metadata": {},
   "outputs": [
    {
     "data": {
      "text/plain": [
       "2024-01-01    1.186032\n",
       "2024-01-02    0.537931\n",
       "2024-01-03    1.069721\n",
       "2024-01-04   -1.074748\n",
       "2024-01-05   -0.463068\n",
       "                ...   \n",
       "2024-12-27    0.748846\n",
       "2024-12-28   -0.822121\n",
       "2024-12-29    0.297297\n",
       "2024-12-30   -0.984568\n",
       "2024-12-31    0.791310\n",
       "Freq: D, Length: 366, dtype: float64"
      ]
     },
     "execution_count": 38,
     "metadata": {},
     "output_type": "execute_result"
    }
   ],
   "source": [
    "longer_ts['2024']"
   ]
  },
  {
   "cell_type": "code",
   "execution_count": 41,
   "metadata": {},
   "outputs": [
    {
     "data": {
      "text/plain": [
       "2023-03-01   -1.184241\n",
       "2023-03-03   -0.425429\n",
       "dtype: float64"
      ]
     },
     "execution_count": 41,
     "metadata": {},
     "output_type": "execute_result"
    }
   ],
   "source": [
    "# We can slice with datetime objects\n",
    "ts[datetime(2023,3,1):]"
   ]
  },
  {
   "cell_type": "markdown",
   "metadata": {},
   "source": [
    "Sometimes there might be duplicate observations falling on a particular timestamp.  Indexing in such time series will now produce outputs that depend on whether a timestamp is duplicated."
   ]
  },
  {
   "cell_type": "code",
   "execution_count": 43,
   "metadata": {},
   "outputs": [
    {
     "data": {
      "text/plain": [
       "2000-01-01    0\n",
       "2000-01-02    1\n",
       "2000-01-02    2\n",
       "2000-01-02    3\n",
       "2000-01-03    4\n",
       "dtype: int32"
      ]
     },
     "execution_count": 43,
     "metadata": {},
     "output_type": "execute_result"
    }
   ],
   "source": [
    "dates = pd.DatetimeIndex(['1/1/2000', '1/2/2000', '1/2/2000', '1/2/2000', '1/3/2000'])\n",
    "dup_ts = pd.Series(np.arange(5), index=dates)\n",
    "\n",
    "dup_ts"
   ]
  },
  {
   "cell_type": "code",
   "execution_count": 44,
   "metadata": {},
   "outputs": [
    {
     "data": {
      "text/plain": [
       "False"
      ]
     },
     "execution_count": 44,
     "metadata": {},
     "output_type": "execute_result"
    }
   ],
   "source": [
    "dup_ts.index.is_unique"
   ]
  },
  {
   "cell_type": "code",
   "execution_count": 45,
   "metadata": {},
   "outputs": [
    {
     "data": {
      "text/plain": [
       "4"
      ]
     },
     "execution_count": 45,
     "metadata": {},
     "output_type": "execute_result"
    }
   ],
   "source": [
    "dup_ts['1/3/2000']    # Not duplicated"
   ]
  },
  {
   "cell_type": "code",
   "execution_count": 46,
   "metadata": {},
   "outputs": [
    {
     "data": {
      "text/plain": [
       "2000-01-02    1\n",
       "2000-01-02    2\n",
       "2000-01-02    3\n",
       "dtype: int32"
      ]
     },
     "execution_count": 46,
     "metadata": {},
     "output_type": "execute_result"
    }
   ],
   "source": [
    "dup_ts['1/2/2000']    # Duplicated"
   ]
  },
  {
   "cell_type": "code",
   "execution_count": 50,
   "metadata": {},
   "outputs": [
    {
     "name": "stdout",
     "output_type": "stream",
     "text": [
      "2000-01-01    0.0\n",
      "2000-01-02    2.0\n",
      "2000-01-03    4.0\n",
      "dtype: float64 \n",
      "\n",
      "2000-01-01    1\n",
      "2000-01-02    3\n",
      "2000-01-03    1\n",
      "dtype: int64\n"
     ]
    }
   ],
   "source": [
    "# We can aggregate the data having non-unique timestamps\n",
    "grouped = dup_ts.groupby(level=0)\n",
    "print(grouped.mean(), '\\n')\n",
    "print(grouped.count())"
   ]
  },
  {
   "cell_type": "markdown",
   "metadata": {},
   "source": [
    "## 7.5 Generating data ranges\n",
    "\n",
    "We have glossed over this fact so far, but `pd.date_range` is responsible for generating a `DatetimeIndex` with an indicated length according to a particular frequency."
   ]
  },
  {
   "cell_type": "code",
   "execution_count": 51,
   "metadata": {},
   "outputs": [
    {
     "data": {
      "text/plain": [
       "DatetimeIndex(['2023-02-21', '2023-02-22', '2023-02-23', '2023-02-24',\n",
       "               '2023-02-25', '2023-02-26', '2023-02-27', '2023-02-28',\n",
       "               '2023-03-01', '2023-03-02', '2023-03-03', '2023-03-04',\n",
       "               '2023-03-05', '2023-03-06', '2023-03-07', '2023-03-08',\n",
       "               '2023-03-09', '2023-03-10', '2023-03-11', '2023-03-12',\n",
       "               '2023-03-13', '2023-03-14', '2023-03-15', '2023-03-16',\n",
       "               '2023-03-17', '2023-03-18', '2023-03-19', '2023-03-20',\n",
       "               '2023-03-21', '2023-03-22', '2023-03-23', '2023-03-24',\n",
       "               '2023-03-25', '2023-03-26', '2023-03-27', '2023-03-28',\n",
       "               '2023-03-29', '2023-03-30', '2023-03-31', '2023-04-01',\n",
       "               '2023-04-02', '2023-04-03', '2023-04-04', '2023-04-05',\n",
       "               '2023-04-06', '2023-04-07', '2023-04-08', '2023-04-09',\n",
       "               '2023-04-10', '2023-04-11', '2023-04-12', '2023-04-13',\n",
       "               '2023-04-14', '2023-04-15', '2023-04-16', '2023-04-17',\n",
       "               '2023-04-18', '2023-04-19', '2023-04-20', '2023-04-21',\n",
       "               '2023-04-22', '2023-04-23', '2023-04-24', '2023-04-25',\n",
       "               '2023-04-26', '2023-04-27', '2023-04-28', '2023-04-29',\n",
       "               '2023-04-30', '2023-05-01', '2023-05-02', '2023-05-03'],\n",
       "              dtype='datetime64[ns]', freq='D')"
      ]
     },
     "execution_count": 51,
     "metadata": {},
     "output_type": "execute_result"
    }
   ],
   "source": [
    "index = pd.date_range('2023-02-21', '2023-05-03')    # By default, date_range generated daily timestamps\n",
    "index"
   ]
  },
  {
   "cell_type": "code",
   "execution_count": 52,
   "metadata": {},
   "outputs": [
    {
     "data": {
      "text/plain": [
       "DatetimeIndex(['2023-02-21', '2023-02-22', '2023-02-23', '2023-02-24',\n",
       "               '2023-02-25', '2023-02-26', '2023-02-27', '2023-02-28',\n",
       "               '2023-03-01', '2023-03-02', '2023-03-03', '2023-03-04',\n",
       "               '2023-03-05', '2023-03-06', '2023-03-07', '2023-03-08',\n",
       "               '2023-03-09', '2023-03-10', '2023-03-11', '2023-03-12',\n",
       "               '2023-03-13', '2023-03-14', '2023-03-15', '2023-03-16',\n",
       "               '2023-03-17', '2023-03-18', '2023-03-19', '2023-03-20'],\n",
       "              dtype='datetime64[ns]', freq='D')"
      ]
     },
     "execution_count": 52,
     "metadata": {},
     "output_type": "execute_result"
    }
   ],
   "source": [
    "pd.date_range(start='2023-02-21', periods=28)"
   ]
  },
  {
   "cell_type": "code",
   "execution_count": 53,
   "metadata": {},
   "outputs": [
    {
     "data": {
      "text/plain": [
       "DatetimeIndex(['2023-04-06', '2023-04-07', '2023-04-08', '2023-04-09',\n",
       "               '2023-04-10', '2023-04-11', '2023-04-12', '2023-04-13',\n",
       "               '2023-04-14', '2023-04-15', '2023-04-16', '2023-04-17',\n",
       "               '2023-04-18', '2023-04-19', '2023-04-20', '2023-04-21',\n",
       "               '2023-04-22', '2023-04-23', '2023-04-24', '2023-04-25',\n",
       "               '2023-04-26', '2023-04-27', '2023-04-28', '2023-04-29',\n",
       "               '2023-04-30', '2023-05-01', '2023-05-02', '2023-05-03'],\n",
       "              dtype='datetime64[ns]', freq='D')"
      ]
     },
     "execution_count": 53,
     "metadata": {},
     "output_type": "execute_result"
    }
   ],
   "source": [
    "pd.date_range(end='2023-05-03', periods=28)"
   ]
  },
  {
   "cell_type": "code",
   "execution_count": 55,
   "metadata": {},
   "outputs": [
    {
     "data": {
      "text/plain": [
       "DatetimeIndex(['2000-01-31', '2000-02-29', '2000-03-31', '2000-04-28',\n",
       "               '2000-05-31', '2000-06-30', '2000-07-31', '2000-08-31',\n",
       "               '2000-09-29', '2000-10-31', '2000-11-30'],\n",
       "              dtype='datetime64[ns]', freq='BM')"
      ]
     },
     "execution_count": 55,
     "metadata": {},
     "output_type": "execute_result"
    }
   ],
   "source": [
    "# If we pass 'BM' then we get the business end of month\n",
    "pd.date_range('2000-01-01', '2000-12-01', freq='BM')"
   ]
  },
  {
   "cell_type": "markdown",
   "metadata": {},
   "source": [
    "## 7.6 Shifting (leading and lagging) data\n",
    "\n",
    "Any time we want to move backwards or forwards through time, we call this 'shifting'. Both `Series` and `DataFrame` have a `shift` method for doing naive shifts in either direction, leaving the index unmodified."
   ]
  },
  {
   "cell_type": "code",
   "execution_count": 56,
   "metadata": {},
   "outputs": [
    {
     "data": {
      "text/plain": [
       "2000-01-31   -0.290167\n",
       "2000-02-29    0.894581\n",
       "2000-03-31   -0.257203\n",
       "2000-04-30   -1.163393\n",
       "Freq: M, dtype: float64"
      ]
     },
     "execution_count": 56,
     "metadata": {},
     "output_type": "execute_result"
    }
   ],
   "source": [
    "ts = pd.Series(np.random.randn(4),\n",
    "              index=pd.date_range('1/1/2000', periods=4, freq='M'))\n",
    "ts"
   ]
  },
  {
   "cell_type": "code",
   "execution_count": 59,
   "metadata": {},
   "outputs": [
    {
     "name": "stdout",
     "output_type": "stream",
     "text": [
      "2000-01-31         NaN\n",
      "2000-02-29         NaN\n",
      "2000-03-31   -0.290167\n",
      "2000-04-30    0.894581\n",
      "Freq: M, dtype: float64 \n",
      "\n",
      "2000-01-31   -0.257203\n",
      "2000-02-29   -1.163393\n",
      "2000-03-31         NaN\n",
      "2000-04-30         NaN\n",
      "Freq: M, dtype: float64\n"
     ]
    }
   ],
   "source": [
    "print(ts.shift(2), '\\n')\n",
    "print(ts.shift(-2))"
   ]
  },
  {
   "cell_type": "markdown",
   "metadata": {},
   "source": [
    "Shifting in this way introduces missing data, either at the start or end of the time series.\n",
    "\n",
    "A common use of `shift` is computing percent changes in a time series or multiple time series as DataFrame columns. This is expressed as: `ts / ts.shift(1)-1`. Since naive shifts leave the index unmodified, some data is discarded. Thus, if the frequency is known, it can be passed to `shift` to advance the timestamps instead of simply the data."
   ]
  },
  {
   "cell_type": "code",
   "execution_count": 60,
   "metadata": {},
   "outputs": [
    {
     "data": {
      "text/plain": [
       "2000-03-31   -0.290167\n",
       "2000-04-30    0.894581\n",
       "2000-05-31   -0.257203\n",
       "2000-06-30   -1.163393\n",
       "Freq: M, dtype: float64"
      ]
     },
     "execution_count": 60,
     "metadata": {},
     "output_type": "execute_result"
    }
   ],
   "source": [
    "ts.shift(2, freq='M')"
   ]
  },
  {
   "cell_type": "code",
   "execution_count": 61,
   "metadata": {},
   "outputs": [
    {
     "data": {
      "text/plain": [
       "2000-02-03   -0.290167\n",
       "2000-03-03    0.894581\n",
       "2000-04-03   -0.257203\n",
       "2000-05-03   -1.163393\n",
       "dtype: float64"
      ]
     },
     "execution_count": 61,
     "metadata": {},
     "output_type": "execute_result"
    }
   ],
   "source": [
    "# We can pass other frequencies as well\n",
    "ts.shift(3, freq='D')"
   ]
  },
  {
   "cell_type": "code",
   "execution_count": 62,
   "metadata": {},
   "outputs": [
    {
     "data": {
      "text/plain": [
       "2000-01-31 01:30:00   -0.290167\n",
       "2000-02-29 01:30:00    0.894581\n",
       "2000-03-31 01:30:00   -0.257203\n",
       "2000-04-30 01:30:00   -1.163393\n",
       "dtype: float64"
      ]
     },
     "execution_count": 62,
     "metadata": {},
     "output_type": "execute_result"
    }
   ],
   "source": [
    "ts.shift(1, freq='90T')    # The T here stands for minutes"
   ]
  },
  {
   "cell_type": "markdown",
   "metadata": {},
   "source": [
    "## 7.7 Handling time zones\n",
    "\n",
    "Due to the messiness of working with different time zones, many time series users opt to work with time series in _coordinated universal time_ (UTC), which is the successor to Greenwich Mean Time and current international standard. Thus, time zones are expressed as offsets from UTC, e.g. New York is UTC-4 (during daylight savings) or UTC-5 (otherwise), while London is UTC+0.\n",
    "\n",
    "As far as Python goes, time zone information comes from the `pytz` library (installable with pip or conda). This provides a range of time zone information which is invaluable given the historical changes to daylight savings time (DST) transition dates. As ever, there is documentation you are encouraged to look at."
   ]
  },
  {
   "cell_type": "code",
   "execution_count": 64,
   "metadata": {},
   "outputs": [
    {
     "data": {
      "text/plain": [
       "['US/Eastern', 'US/Hawaii', 'US/Mountain', 'US/Pacific', 'UTC']"
      ]
     },
     "execution_count": 64,
     "metadata": {},
     "output_type": "execute_result"
    }
   ],
   "source": [
    "import pytz\n",
    "\n",
    "pytz.common_timezones[-5:]"
   ]
  },
  {
   "cell_type": "code",
   "execution_count": 75,
   "metadata": {},
   "outputs": [
    {
     "data": {
      "text/plain": [
       "<DstTzInfo 'Asia/Tokyo' LMT+9:19:00 STD>"
      ]
     },
     "execution_count": 75,
     "metadata": {},
     "output_type": "execute_result"
    }
   ],
   "source": [
    "tz = pytz.timezone('Asia/Tokyo')\n",
    "tz"
   ]
  },
  {
   "cell_type": "markdown",
   "metadata": {},
   "source": [
    "By default, time series in pandas are _time zone naive_. To convert from naive to _localised_, we use the `tz_localize_ method."
   ]
  },
  {
   "cell_type": "code",
   "execution_count": 81,
   "metadata": {},
   "outputs": [
    {
     "name": "stdout",
     "output_type": "stream",
     "text": [
      "2023-02-21 14:55:00   -0.015503\n",
      "2023-02-22 14:55:00    0.078835\n",
      "2023-02-23 14:55:00    0.156205\n",
      "2023-02-24 14:55:00   -0.368505\n",
      "2023-02-25 14:55:00   -0.023661\n",
      "2023-02-26 14:55:00   -1.030426\n",
      "Freq: D, dtype: float64 \n",
      "\n",
      "None\n"
     ]
    }
   ],
   "source": [
    "rng = pd.date_range('21/02/2023 14:55', periods=6, freq='D')    # Try passing tz='UTC'\n",
    "ts = pd.Series(np.random.randn(len(rng)), index=rng)\n",
    "\n",
    "print(ts, '\\n')\n",
    "print(ts.index.tz)"
   ]
  },
  {
   "cell_type": "code",
   "execution_count": 85,
   "metadata": {},
   "outputs": [
    {
     "name": "stdout",
     "output_type": "stream",
     "text": [
      "2023-02-21 14:55:00+00:00   -0.015503\n",
      "2023-02-22 14:55:00+00:00    0.078835\n",
      "2023-02-23 14:55:00+00:00    0.156205\n",
      "2023-02-24 14:55:00+00:00   -0.368505\n",
      "2023-02-25 14:55:00+00:00   -0.023661\n",
      "2023-02-26 14:55:00+00:00   -1.030426\n",
      "Freq: D, dtype: float64 \n",
      "\n",
      "UTC\n"
     ]
    }
   ],
   "source": [
    "ts_utc = ts.tz_localize('UTC')\n",
    "\n",
    "print(ts_utc, '\\n')\n",
    "print(ts_utc.index.tz)"
   ]
  },
  {
   "cell_type": "markdown",
   "metadata": {},
   "source": [
    "Once a time series has been localised to a particular time zone, it can be converted to another time zone with `tz_convert`."
   ]
  },
  {
   "cell_type": "code",
   "execution_count": 86,
   "metadata": {},
   "outputs": [
    {
     "data": {
      "text/plain": [
       "2023-02-21 09:55:00-05:00   -0.015503\n",
       "2023-02-22 09:55:00-05:00    0.078835\n",
       "2023-02-23 09:55:00-05:00    0.156205\n",
       "2023-02-24 09:55:00-05:00   -0.368505\n",
       "2023-02-25 09:55:00-05:00   -0.023661\n",
       "2023-02-26 09:55:00-05:00   -1.030426\n",
       "Freq: D, dtype: float64"
      ]
     },
     "execution_count": 86,
     "metadata": {},
     "output_type": "execute_result"
    }
   ],
   "source": [
    "ts_utc.tz_convert('America/New_York')"
   ]
  },
  {
   "cell_type": "markdown",
   "metadata": {},
   "source": [
    "## 7.8 Moving window functions\n",
    "\n",
    "As one would expect, statistics and other functions are very important in understanding time series. In particular, we would often like to perform such operations over a sliding window or with exponentially decaying weights. This can be useful for smoothing noisy or gappy data. McKinney calls these _moving window functions_. Like other statistical functions, these also automatically exclude missing data.\n",
    "\n",
    "In the following, we load some time series data and resample it to business day frequency."
   ]
  },
  {
   "cell_type": "code",
   "execution_count": 87,
   "metadata": {},
   "outputs": [],
   "source": [
    "close_px_all = pd.read_csv('stock_px.csv',\n",
    "                           parse_dates=True, index_col=0)"
   ]
  },
  {
   "cell_type": "code",
   "execution_count": 88,
   "metadata": {},
   "outputs": [],
   "source": [
    "close_px = close_px_all[['AAPL', 'MSFT', 'XOM']]"
   ]
  },
  {
   "cell_type": "code",
   "execution_count": 89,
   "metadata": {},
   "outputs": [],
   "source": [
    "close_px = close_px.resample('B').ffill()"
   ]
  },
  {
   "cell_type": "code",
   "execution_count": 92,
   "metadata": {},
   "outputs": [
    {
     "data": {
      "text/plain": [
       "<AxesSubplot:>"
      ]
     },
     "execution_count": 92,
     "metadata": {},
     "output_type": "execute_result"
    },
    {
     "data": {
      "image/png": "[encoded data removed]",
      "text/plain": [
       "<Figure size 640x480 with 1 Axes>"
      ]
     },
     "metadata": {},
     "output_type": "display_data"
    }
   ],
   "source": [
    "# Next we introduce the rolling operator. It behaves similarly ti resample and groupby. It can be called on a Series or\n",
    "# DataFrame along with a window (expressed as a number of periods)\n",
    "close_px.AAPL.plot()\n",
    "close_px.AAPL.rolling(250).mean().plot()"
   ]
  },
  {
   "cell_type": "markdown",
   "metadata": {},
   "source": [
    "The expression `rolling(250)` is similar to `groupby` but instead of grouping it creates an object that enables grouping over a 250-day sliding window. In the above, we have a 250-day moving window average of Apple's stick price."
   ]
  },
  {
   "cell_type": "markdown",
   "metadata": {},
   "source": [
    "By default, rolling functions require all of the values in the window to be non-NA. However, this can be changed to account for missing data and, in particular, the fact that we will have fewer than `window` periods of data at the beginning of the time series."
   ]
  },
  {
   "cell_type": "code",
   "execution_count": 97,
   "metadata": {},
   "outputs": [
    {
     "data": {
      "text/plain": [
       "2003-01-09         NaN\n",
       "2003-01-10         NaN\n",
       "2003-01-13         NaN\n",
       "2003-01-14         NaN\n",
       "2003-01-15    0.077496\n",
       "2003-01-16    0.074760\n",
       "2003-01-17    0.112368\n",
       "Freq: B, Name: AAPL, dtype: float64"
      ]
     },
     "execution_count": 97,
     "metadata": {},
     "output_type": "execute_result"
    }
   ],
   "source": [
    "appl_std250 = close_px.AAPL.rolling(250, min_periods=10).std()\n",
    "appl_std250[5:12]"
   ]
  },
  {
   "cell_type": "code",
   "execution_count": 101,
   "metadata": {},
   "outputs": [
    {
     "data": {
      "image/png": "[encoded data removed]",
      "text/plain": [
       "<Figure size 640x480 with 1 Axes>"
      ]
     },
     "metadata": {},
     "output_type": "display_data"
    }
   ],
   "source": [
    "appl_std250 = close_px.AAPL.rolling(250, min_periods=10).std().plot()"
   ]
  },
  {
   "cell_type": "markdown",
   "metadata": {},
   "source": [
    "Calling a moving window function on a DataFrame applies the transformation to each column."
   ]
  },
  {
   "cell_type": "code",
   "execution_count": 103,
   "metadata": {},
   "outputs": [
    {
     "data": {
      "text/plain": [
       "<AxesSubplot:>"
      ]
     },
     "execution_count": 103,
     "metadata": {},
     "output_type": "execute_result"
    },
    {
     "data": {
      "image/png": "[encoded data removed]",
      "text/plain": [
       "<Figure size 640x480 with 1 Axes>"
      ]
     },
     "metadata": {},
     "output_type": "display_data"
    }
   ],
   "source": [
    "close_px.rolling(60).mean().plot(logy=True)"
   ]
  },
  {
   "cell_type": "markdown",
   "metadata": {},
   "source": [
    "The `rolling` function also accepts a string indicating a fixed-size time offset rather than a set number of periods. For example, we could compute a 20-day rolling mean:"
   ]
  },
  {
   "cell_type": "code",
   "execution_count": 104,
   "metadata": {},
   "outputs": [
    {
     "data": {
      "text/html": [
       "<div>\n",
       "<style scoped>\n",
       "    .dataframe tbody tr th:only-of-type {\n",
       "        vertical-align: middle;\n",
       "    }\n",
       "\n",
       "    .dataframe tbody tr th {\n",
       "        vertical-align: top;\n",
       "    }\n",
       "\n",
       "    .dataframe thead th {\n",
       "        text-align: right;\n",
       "    }\n",
       "</style>\n",
       "<table border=\"1\" class=\"dataframe\">\n",
       "  <thead>\n",
       "    <tr style=\"text-align: right;\">\n",
       "      <th></th>\n",
       "      <th>AAPL</th>\n",
       "      <th>MSFT</th>\n",
       "      <th>XOM</th>\n",
       "    </tr>\n",
       "  </thead>\n",
       "  <tbody>\n",
       "    <tr>\n",
       "      <th>2003-01-02</th>\n",
       "      <td>7.400000</td>\n",
       "      <td>21.110000</td>\n",
       "      <td>29.220000</td>\n",
       "    </tr>\n",
       "    <tr>\n",
       "      <th>2003-01-03</th>\n",
       "      <td>7.425000</td>\n",
       "      <td>21.125000</td>\n",
       "      <td>29.230000</td>\n",
       "    </tr>\n",
       "    <tr>\n",
       "      <th>2003-01-06</th>\n",
       "      <td>7.433333</td>\n",
       "      <td>21.256667</td>\n",
       "      <td>29.473333</td>\n",
       "    </tr>\n",
       "    <tr>\n",
       "      <th>2003-01-07</th>\n",
       "      <td>7.432500</td>\n",
       "      <td>21.425000</td>\n",
       "      <td>29.342500</td>\n",
       "    </tr>\n",
       "    <tr>\n",
       "      <th>2003-01-08</th>\n",
       "      <td>7.402000</td>\n",
       "      <td>21.402000</td>\n",
       "      <td>29.240000</td>\n",
       "    </tr>\n",
       "    <tr>\n",
       "      <th>...</th>\n",
       "      <td>...</td>\n",
       "      <td>...</td>\n",
       "      <td>...</td>\n",
       "    </tr>\n",
       "    <tr>\n",
       "      <th>2011-10-10</th>\n",
       "      <td>389.351429</td>\n",
       "      <td>25.602143</td>\n",
       "      <td>72.527857</td>\n",
       "    </tr>\n",
       "    <tr>\n",
       "      <th>2011-10-11</th>\n",
       "      <td>388.505000</td>\n",
       "      <td>25.674286</td>\n",
       "      <td>72.835000</td>\n",
       "    </tr>\n",
       "    <tr>\n",
       "      <th>2011-10-12</th>\n",
       "      <td>388.531429</td>\n",
       "      <td>25.810000</td>\n",
       "      <td>73.400714</td>\n",
       "    </tr>\n",
       "    <tr>\n",
       "      <th>2011-10-13</th>\n",
       "      <td>388.826429</td>\n",
       "      <td>25.961429</td>\n",
       "      <td>73.905000</td>\n",
       "    </tr>\n",
       "    <tr>\n",
       "      <th>2011-10-14</th>\n",
       "      <td>391.038000</td>\n",
       "      <td>26.048667</td>\n",
       "      <td>74.185333</td>\n",
       "    </tr>\n",
       "  </tbody>\n",
       "</table>\n",
       "<p>2292 rows × 3 columns</p>\n",
       "</div>"
      ],
      "text/plain": [
       "                  AAPL       MSFT        XOM\n",
       "2003-01-02    7.400000  21.110000  29.220000\n",
       "2003-01-03    7.425000  21.125000  29.230000\n",
       "2003-01-06    7.433333  21.256667  29.473333\n",
       "2003-01-07    7.432500  21.425000  29.342500\n",
       "2003-01-08    7.402000  21.402000  29.240000\n",
       "...                ...        ...        ...\n",
       "2011-10-10  389.351429  25.602143  72.527857\n",
       "2011-10-11  388.505000  25.674286  72.835000\n",
       "2011-10-12  388.531429  25.810000  73.400714\n",
       "2011-10-13  388.826429  25.961429  73.905000\n",
       "2011-10-14  391.038000  26.048667  74.185333\n",
       "\n",
       "[2292 rows x 3 columns]"
      ]
     },
     "execution_count": 104,
     "metadata": {},
     "output_type": "execute_result"
    }
   ],
   "source": [
    "close_px.rolling('20D').mean()"
   ]
  },
  {
   "cell_type": "markdown",
   "metadata": {},
   "source": [
    "An alternative to using a static window size with equally weighted observations is to specify a constant decay factor to give more weight to more recent observations. There are a couple of ways to specify the decay factor. A popular way is to use a _span_. This makes the result comparable to a simple moving window function with window size equal to the span."
   ]
  },
  {
   "cell_type": "code",
   "execution_count": 106,
   "metadata": {},
   "outputs": [],
   "source": [
    "aapl_px = close_px.AAPL['2006':'2007']\n",
    "ma60 = aapl_px.rolling(30,min_periods=20).mean()"
   ]
  },
  {
   "cell_type": "code",
   "execution_count": 107,
   "metadata": {},
   "outputs": [],
   "source": [
    "ewma60 = aapl_px.ewm(span=30).mean()"
   ]
  },
  {
   "cell_type": "code",
   "execution_count": 109,
   "metadata": {},
   "outputs": [
    {
     "data": {
      "text/plain": [
       "<matplotlib.legend.Legend at 0x1d77ae37670>"
      ]
     },
     "execution_count": 109,
     "metadata": {},
     "output_type": "execute_result"
    },
    {
     "data": {
      "image/png": "[encoded data removed]",
      "text/plain": [
       "<Figure size 640x480 with 1 Axes>"
      ]
     },
     "metadata": {},
     "output_type": "display_data"
    }
   ],
   "source": [
    "import matplotlib.pyplot as plt\n",
    "\n",
    "ma60.plot(style='k--', label='Simple MA')\n",
    "ewma60.plot(style='k-', label='EW MA')\n",
    "\n",
    "plt.legend()"
   ]
  },
  {
   "cell_type": "markdown",
   "metadata": {},
   "source": [
    "Since an exponentially weighted statistic places more weight on more recent observations, it 'adapts' faster to changes compared with the equal-weighted version."
   ]
  },
  {
   "cell_type": "markdown",
   "metadata": {},
   "source": [
    "__Exercises:__\n",
    "\n",
    "- Read Chapter 11 of McKinney or Chapter 23 of VanderPlas.\n",
    "- Download the Seattle Fremont Bridge cycle counter data set, found at http://data.seattle.gov. The Fremond Bridge Bicycle Counter dataset is available under the Transportation category. Use this dataset to first obtain some summary statistics. Next, visualise the data and explore various ways to aggregate the data (hint: `pd.rolling_mean`), group the data etc. Try to obtain as much information as possible and use this to tell a story about the data set."
   ]
  }
 ],
 "metadata": {
  "kernelspec": {
   "display_name": "Python 3 (ipykernel)",
   "language": "python",
   "name": "python3"
  },
  "language_info": {
   "codemirror_mode": {
    "name": "ipython",
    "version": 3
   },
   "file_extension": ".py",
   "mimetype": "text/x-python",
   "name": "python",
   "nbconvert_exporter": "python",
   "pygments_lexer": "ipython3",
   "version": "3.8.13"
  }
 },
 "nbformat": 4,
 "nbformat_minor": 1
}
